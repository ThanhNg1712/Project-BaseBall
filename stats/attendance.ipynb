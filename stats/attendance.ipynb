{
 "cells": [
  {
   "cell_type": "code",
   "execution_count": 1,
   "metadata": {
    "scrolled": true
   },
   "outputs": [
    {
     "name": "stdout",
     "output_type": "stream",
     "text": [
      "/Users/thanhnguyen/Desktop/Data_analysis/DE_k2/project1/stats\n"
     ]
    }
   ],
   "source": [
    "#cd /Users/thanhnguyen/Desktop/Data_analysis/DE_k2/project1/stats"
   ]
  },
  {
   "cell_type": "code",
   "execution_count": 1,
   "metadata": {},
   "outputs": [],
   "source": [
    "import pandas as pd\n",
    "import matplotlib.pyplot as plt"
   ]
  },
  {
   "cell_type": "code",
   "execution_count": 2,
   "metadata": {},
   "outputs": [
    {
     "data": {
      "text/html": [
       "<div>\n",
       "<style scoped>\n",
       "    .dataframe tbody tr th:only-of-type {\n",
       "        vertical-align: middle;\n",
       "    }\n",
       "\n",
       "    .dataframe tbody tr th {\n",
       "        vertical-align: top;\n",
       "    }\n",
       "\n",
       "    .dataframe thead th {\n",
       "        text-align: right;\n",
       "    }\n",
       "</style>\n",
       "<table border=\"1\" class=\"dataframe\">\n",
       "  <thead>\n",
       "    <tr style=\"text-align: right;\">\n",
       "      <th></th>\n",
       "      <th>type</th>\n",
       "      <th>multi2</th>\n",
       "      <th>multi3</th>\n",
       "      <th>multi4</th>\n",
       "      <th>multi5</th>\n",
       "      <th>multi6</th>\n",
       "      <th>event</th>\n",
       "      <th>game_id</th>\n",
       "      <th>year</th>\n",
       "    </tr>\n",
       "  </thead>\n",
       "  <tbody>\n",
       "    <tr>\n",
       "      <th>0</th>\n",
       "      <td>id</td>\n",
       "      <td>ALS193307060</td>\n",
       "      <td>NaN</td>\n",
       "      <td>NaN</td>\n",
       "      <td>NaN</td>\n",
       "      <td>NaN</td>\n",
       "      <td>NaN</td>\n",
       "      <td>ALS193307060</td>\n",
       "      <td>1933</td>\n",
       "    </tr>\n",
       "    <tr>\n",
       "      <th>1</th>\n",
       "      <td>version</td>\n",
       "      <td>1</td>\n",
       "      <td>NaN</td>\n",
       "      <td>NaN</td>\n",
       "      <td>NaN</td>\n",
       "      <td>NaN</td>\n",
       "      <td>NaN</td>\n",
       "      <td>ALS193307060</td>\n",
       "      <td>1933</td>\n",
       "    </tr>\n",
       "    <tr>\n",
       "      <th>2</th>\n",
       "      <td>info</td>\n",
       "      <td>inputprogvers</td>\n",
       "      <td>version 7RS(19) of 07/07/92</td>\n",
       "      <td>NaN</td>\n",
       "      <td>NaN</td>\n",
       "      <td>NaN</td>\n",
       "      <td>NaN</td>\n",
       "      <td>ALS193307060</td>\n",
       "      <td>1933</td>\n",
       "    </tr>\n",
       "    <tr>\n",
       "      <th>3</th>\n",
       "      <td>info</td>\n",
       "      <td>visteam</td>\n",
       "      <td>NLS</td>\n",
       "      <td>NaN</td>\n",
       "      <td>NaN</td>\n",
       "      <td>NaN</td>\n",
       "      <td>NaN</td>\n",
       "      <td>ALS193307060</td>\n",
       "      <td>1933</td>\n",
       "    </tr>\n",
       "    <tr>\n",
       "      <th>4</th>\n",
       "      <td>info</td>\n",
       "      <td>hometeam</td>\n",
       "      <td>ALS</td>\n",
       "      <td>NaN</td>\n",
       "      <td>NaN</td>\n",
       "      <td>NaN</td>\n",
       "      <td>NaN</td>\n",
       "      <td>ALS193307060</td>\n",
       "      <td>1933</td>\n",
       "    </tr>\n",
       "    <tr>\n",
       "      <th>...</th>\n",
       "      <td>...</td>\n",
       "      <td>...</td>\n",
       "      <td>...</td>\n",
       "      <td>...</td>\n",
       "      <td>...</td>\n",
       "      <td>...</td>\n",
       "      <td>...</td>\n",
       "      <td>...</td>\n",
       "      <td>...</td>\n",
       "    </tr>\n",
       "    <tr>\n",
       "      <th>19043</th>\n",
       "      <td>data</td>\n",
       "      <td>er</td>\n",
       "      <td>jeffj001</td>\n",
       "      <td>0</td>\n",
       "      <td>NaN</td>\n",
       "      <td>NaN</td>\n",
       "      <td>NaN</td>\n",
       "      <td>NLS201807170</td>\n",
       "      <td>2018</td>\n",
       "    </tr>\n",
       "    <tr>\n",
       "      <th>19044</th>\n",
       "      <td>data</td>\n",
       "      <td>er</td>\n",
       "      <td>rivef001</td>\n",
       "      <td>0</td>\n",
       "      <td>NaN</td>\n",
       "      <td>NaN</td>\n",
       "      <td>NaN</td>\n",
       "      <td>NLS201807170</td>\n",
       "      <td>2018</td>\n",
       "    </tr>\n",
       "    <tr>\n",
       "      <th>19045</th>\n",
       "      <td>data</td>\n",
       "      <td>er</td>\n",
       "      <td>hadej001</td>\n",
       "      <td>1</td>\n",
       "      <td>NaN</td>\n",
       "      <td>NaN</td>\n",
       "      <td>NaN</td>\n",
       "      <td>NLS201807170</td>\n",
       "      <td>2018</td>\n",
       "    </tr>\n",
       "    <tr>\n",
       "      <th>19046</th>\n",
       "      <td>data</td>\n",
       "      <td>er</td>\n",
       "      <td>handb001</td>\n",
       "      <td>0</td>\n",
       "      <td>NaN</td>\n",
       "      <td>NaN</td>\n",
       "      <td>NaN</td>\n",
       "      <td>NLS201807170</td>\n",
       "      <td>2018</td>\n",
       "    </tr>\n",
       "    <tr>\n",
       "      <th>19047</th>\n",
       "      <td>data</td>\n",
       "      <td>er</td>\n",
       "      <td>strir001</td>\n",
       "      <td>3</td>\n",
       "      <td>NaN</td>\n",
       "      <td>NaN</td>\n",
       "      <td>NaN</td>\n",
       "      <td>NLS201807170</td>\n",
       "      <td>2018</td>\n",
       "    </tr>\n",
       "  </tbody>\n",
       "</table>\n",
       "<p>19048 rows × 9 columns</p>\n",
       "</div>"
      ],
      "text/plain": [
       "          type         multi2                       multi3 multi4  multi5  \\\n",
       "0           id   ALS193307060                          NaN    NaN     NaN   \n",
       "1      version              1                          NaN    NaN     NaN   \n",
       "2         info  inputprogvers  version 7RS(19) of 07/07/92    NaN     NaN   \n",
       "3         info        visteam                          NLS    NaN     NaN   \n",
       "4         info       hometeam                          ALS    NaN     NaN   \n",
       "...        ...            ...                          ...    ...     ...   \n",
       "19043     data             er                     jeffj001      0     NaN   \n",
       "19044     data             er                     rivef001      0     NaN   \n",
       "19045     data             er                     hadej001      1     NaN   \n",
       "19046     data             er                     handb001      0     NaN   \n",
       "19047     data             er                     strir001      3     NaN   \n",
       "\n",
       "      multi6 event       game_id  year  \n",
       "0        NaN   NaN  ALS193307060  1933  \n",
       "1        NaN   NaN  ALS193307060  1933  \n",
       "2        NaN   NaN  ALS193307060  1933  \n",
       "3        NaN   NaN  ALS193307060  1933  \n",
       "4        NaN   NaN  ALS193307060  1933  \n",
       "...      ...   ...           ...   ...  \n",
       "19043    NaN   NaN  NLS201807170  2018  \n",
       "19044    NaN   NaN  NLS201807170  2018  \n",
       "19045    NaN   NaN  NLS201807170  2018  \n",
       "19046    NaN   NaN  NLS201807170  2018  \n",
       "19047    NaN   NaN  NLS201807170  2018  \n",
       "\n",
       "[19048 rows x 9 columns]"
      ]
     },
     "execution_count": 2,
     "metadata": {},
     "output_type": "execute_result"
    }
   ],
   "source": [
    "games = pd.read_csv('/Users/thanhnguyen/Desktop/Data_analysis/DE_k2/project1_baseball/games/games.csv')\n",
    "games"
   ]
  },
  {
   "cell_type": "code",
   "execution_count": 3,
   "metadata": {},
   "outputs": [
    {
     "name": "stdout",
     "output_type": "stream",
     "text": [
      "       year multi3\n",
      "28     1933  47595\n",
      "198    1934  48368\n",
      "405    1935  69812\n",
      "566    1936  25556\n",
      "742    1937  31391\n",
      "...     ...    ...\n",
      "17867  2014  41048\n",
      "18101  2015  43656\n",
      "18345  2016  42386\n",
      "18591  2017  37188\n",
      "18824  2018  43843\n",
      "\n",
      "[89 rows x 2 columns]\n"
     ]
    },
    {
     "data": {
      "text/plain": [
       "pandas.core.frame.DataFrame"
      ]
     },
     "execution_count": 3,
     "metadata": {},
     "output_type": "execute_result"
    }
   ],
   "source": [
    "#task4\n",
    "attendance = games.loc[(games['type'] == 'info') & (games['multi2'] == 'attendance'), ['year', 'multi3']]\n",
    "print(attendance)\n",
    "type(attendance)"
   ]
  },
  {
   "cell_type": "code",
   "execution_count": 4,
   "metadata": {},
   "outputs": [],
   "source": [
    "#task5\n",
    "attendance = attendance[['year', 'multi3']]\n",
    "attendance.columns = ['year', 'attendance']\n"
   ]
  },
  {
   "cell_type": "code",
   "execution_count": 5,
   "metadata": {},
   "outputs": [],
   "source": [
    "#task6\n",
    "attendance['attendance'] = pd.to_numeric(attendance['attendance'])"
   ]
  },
  {
   "cell_type": "code",
   "execution_count": 6,
   "metadata": {},
   "outputs": [
    {
     "data": {
      "image/png": "[encoded data removed]",
      "text/plain": [
       "<Figure size 1080x504 with 1 Axes>"
      ]
     },
     "metadata": {
      "needs_background": "light"
     },
     "output_type": "display_data"
    }
   ],
   "source": [
    "#task7,8 --plot--\n",
    "plt.figure(figsize=(15,7))\n",
    "plt.bar(attendance.year, attendance.attendance)\n",
    "plt.xlabel('year')\n",
    "plt.ylabel('attendance')\n",
    "plt.show()"
   ]
  },
  {
   "cell_type": "code",
   "execution_count": 11,
   "metadata": {},
   "outputs": [
    {
     "data": {
      "image/png": "[encoded data removed]",
      "text/plain": [
       "<Figure size 1080x504 with 1 Axes>"
      ]
     },
     "metadata": {
      "needs_background": "light"
     },
     "output_type": "display_data"
    }
   ],
   "source": [
    "#task 9\n",
    "mean_attendance = attendance['attendance'].mean()\n",
    "\n",
    "plt.figure(figsize=(15,7))\n",
    "plt.bar(attendance.year, attendance.attendance)\n",
    "#add mean line\n",
    "plt.axhline(y=mean_attendance, linestyle='-', color='green', label='mean')\n",
    "plt.xlabel('year')\n",
    "plt.ylabel('attendance')\n",
    "plt.legend()\n",
    "plt.show()"
   ]
  },
  {
   "cell_type": "code",
   "execution_count": null,
   "metadata": {},
   "outputs": [],
   "source": []
  }
 ],
 "metadata": {
  "kernelspec": {
   "display_name": "Python 3",
   "language": "python",
   "name": "python3"
  },
  "language_info": {
   "codemirror_mode": {
    "name": "ipython",
    "version": 3
   },
   "file_extension": ".py",
   "mimetype": "text/x-python",
   "name": "python",
   "nbconvert_exporter": "python",
   "pygments_lexer": "ipython3",
   "version": "3.8.3"
  }
 },
 "nbformat": 4,
 "nbformat_minor": 4
}
